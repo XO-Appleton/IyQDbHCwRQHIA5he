{
 "cells": [
  {
   "cell_type": "markdown",
   "id": "597fff81",
   "metadata": {},
   "source": [
    "# Term Deposit Marketing\n",
    "- Author: Yumo Bai\n",
    "- Email: baiym104@gmail.com\n",
    "- Date: Feb 27, 2023"
   ]
  },
  {
   "cell_type": "markdown",
   "id": "2b5bc0f3",
   "metadata": {},
   "source": [
    "## Table of Content\n"
   ]
  },
  {
   "cell_type": "markdown",
   "id": "b979d773",
   "metadata": {},
   "source": [
    "## Load Packages"
   ]
  },
  {
   "cell_type": "code",
   "execution_count": 165,
   "id": "0377065b",
   "metadata": {
    "ExecuteTime": {
     "end_time": "2023-02-28T04:50:12.570987Z",
     "start_time": "2023-02-28T04:50:12.565442Z"
    }
   },
   "outputs": [],
   "source": [
    "import numpy as np\n",
    "import pandas as pd\n",
    "import matplotlib.pyplot as plt\n",
    "import seaborn as sns"
   ]
  },
  {
   "cell_type": "markdown",
   "id": "d3454a3d",
   "metadata": {},
   "source": [
    "## Data Wrangling and Preprocessing\n",
    "\n",
    "First let's load and take a look at the dataset."
   ]
  },
  {
   "cell_type": "code",
   "execution_count": 166,
   "id": "28457792",
   "metadata": {
    "ExecuteTime": {
     "end_time": "2023-02-28T04:50:12.640769Z",
     "start_time": "2023-02-28T04:50:12.574119Z"
    }
   },
   "outputs": [],
   "source": [
    "df = pd.read_csv('./data/term-deposit-marketing-2020.csv')"
   ]
  },
  {
   "cell_type": "code",
   "execution_count": 167,
   "id": "471d7e4e",
   "metadata": {
    "ExecuteTime": {
     "end_time": "2023-02-28T04:50:12.648535Z",
     "start_time": "2023-02-28T04:50:12.641604Z"
    }
   },
   "outputs": [
    {
     "data": {
      "text/html": [
       "<div>\n",
       "<style scoped>\n",
       "    .dataframe tbody tr th:only-of-type {\n",
       "        vertical-align: middle;\n",
       "    }\n",
       "\n",
       "    .dataframe tbody tr th {\n",
       "        vertical-align: top;\n",
       "    }\n",
       "\n",
       "    .dataframe thead th {\n",
       "        text-align: right;\n",
       "    }\n",
       "</style>\n",
       "<table border=\"1\" class=\"dataframe\">\n",
       "  <thead>\n",
       "    <tr style=\"text-align: right;\">\n",
       "      <th></th>\n",
       "      <th>age</th>\n",
       "      <th>job</th>\n",
       "      <th>marital</th>\n",
       "      <th>education</th>\n",
       "      <th>default</th>\n",
       "      <th>balance</th>\n",
       "      <th>housing</th>\n",
       "      <th>loan</th>\n",
       "      <th>contact</th>\n",
       "      <th>day</th>\n",
       "      <th>month</th>\n",
       "      <th>duration</th>\n",
       "      <th>campaign</th>\n",
       "      <th>y</th>\n",
       "    </tr>\n",
       "  </thead>\n",
       "  <tbody>\n",
       "    <tr>\n",
       "      <th>0</th>\n",
       "      <td>58</td>\n",
       "      <td>management</td>\n",
       "      <td>married</td>\n",
       "      <td>tertiary</td>\n",
       "      <td>no</td>\n",
       "      <td>2143</td>\n",
       "      <td>yes</td>\n",
       "      <td>no</td>\n",
       "      <td>unknown</td>\n",
       "      <td>5</td>\n",
       "      <td>may</td>\n",
       "      <td>261</td>\n",
       "      <td>1</td>\n",
       "      <td>no</td>\n",
       "    </tr>\n",
       "    <tr>\n",
       "      <th>1</th>\n",
       "      <td>44</td>\n",
       "      <td>technician</td>\n",
       "      <td>single</td>\n",
       "      <td>secondary</td>\n",
       "      <td>no</td>\n",
       "      <td>29</td>\n",
       "      <td>yes</td>\n",
       "      <td>no</td>\n",
       "      <td>unknown</td>\n",
       "      <td>5</td>\n",
       "      <td>may</td>\n",
       "      <td>151</td>\n",
       "      <td>1</td>\n",
       "      <td>no</td>\n",
       "    </tr>\n",
       "    <tr>\n",
       "      <th>2</th>\n",
       "      <td>33</td>\n",
       "      <td>entrepreneur</td>\n",
       "      <td>married</td>\n",
       "      <td>secondary</td>\n",
       "      <td>no</td>\n",
       "      <td>2</td>\n",
       "      <td>yes</td>\n",
       "      <td>yes</td>\n",
       "      <td>unknown</td>\n",
       "      <td>5</td>\n",
       "      <td>may</td>\n",
       "      <td>76</td>\n",
       "      <td>1</td>\n",
       "      <td>no</td>\n",
       "    </tr>\n",
       "    <tr>\n",
       "      <th>3</th>\n",
       "      <td>47</td>\n",
       "      <td>blue-collar</td>\n",
       "      <td>married</td>\n",
       "      <td>unknown</td>\n",
       "      <td>no</td>\n",
       "      <td>1506</td>\n",
       "      <td>yes</td>\n",
       "      <td>no</td>\n",
       "      <td>unknown</td>\n",
       "      <td>5</td>\n",
       "      <td>may</td>\n",
       "      <td>92</td>\n",
       "      <td>1</td>\n",
       "      <td>no</td>\n",
       "    </tr>\n",
       "    <tr>\n",
       "      <th>4</th>\n",
       "      <td>33</td>\n",
       "      <td>unknown</td>\n",
       "      <td>single</td>\n",
       "      <td>unknown</td>\n",
       "      <td>no</td>\n",
       "      <td>1</td>\n",
       "      <td>no</td>\n",
       "      <td>no</td>\n",
       "      <td>unknown</td>\n",
       "      <td>5</td>\n",
       "      <td>may</td>\n",
       "      <td>198</td>\n",
       "      <td>1</td>\n",
       "      <td>no</td>\n",
       "    </tr>\n",
       "  </tbody>\n",
       "</table>\n",
       "</div>"
      ],
      "text/plain": [
       "   age           job  marital  education default  balance housing loan  \\\n",
       "0   58    management  married   tertiary      no     2143     yes   no   \n",
       "1   44    technician   single  secondary      no       29     yes   no   \n",
       "2   33  entrepreneur  married  secondary      no        2     yes  yes   \n",
       "3   47   blue-collar  married    unknown      no     1506     yes   no   \n",
       "4   33       unknown   single    unknown      no        1      no   no   \n",
       "\n",
       "   contact  day month  duration  campaign   y  \n",
       "0  unknown    5   may       261         1  no  \n",
       "1  unknown    5   may       151         1  no  \n",
       "2  unknown    5   may        76         1  no  \n",
       "3  unknown    5   may        92         1  no  \n",
       "4  unknown    5   may       198         1  no  "
      ]
     },
     "execution_count": 167,
     "metadata": {},
     "output_type": "execute_result"
    }
   ],
   "source": [
    "df.head()"
   ]
  },
  {
   "cell_type": "code",
   "execution_count": 168,
   "id": "ac6024de",
   "metadata": {
    "ExecuteTime": {
     "end_time": "2023-02-28T04:50:12.669602Z",
     "start_time": "2023-02-28T04:50:12.650017Z"
    }
   },
   "outputs": [
    {
     "name": "stdout",
     "output_type": "stream",
     "text": [
      "<class 'pandas.core.frame.DataFrame'>\n",
      "RangeIndex: 40000 entries, 0 to 39999\n",
      "Data columns (total 14 columns):\n",
      " #   Column     Non-Null Count  Dtype \n",
      "---  ------     --------------  ----- \n",
      " 0   age        40000 non-null  int64 \n",
      " 1   job        40000 non-null  object\n",
      " 2   marital    40000 non-null  object\n",
      " 3   education  40000 non-null  object\n",
      " 4   default    40000 non-null  object\n",
      " 5   balance    40000 non-null  int64 \n",
      " 6   housing    40000 non-null  object\n",
      " 7   loan       40000 non-null  object\n",
      " 8   contact    40000 non-null  object\n",
      " 9   day        40000 non-null  int64 \n",
      " 10  month      40000 non-null  object\n",
      " 11  duration   40000 non-null  int64 \n",
      " 12  campaign   40000 non-null  int64 \n",
      " 13  y          40000 non-null  object\n",
      "dtypes: int64(5), object(9)\n",
      "memory usage: 4.3+ MB\n"
     ]
    }
   ],
   "source": [
    "df.info()"
   ]
  },
  {
   "cell_type": "markdown",
   "id": "d6ce3c8b",
   "metadata": {},
   "source": [
    "It appears that there is no `Null` values in the dataset. However, we do notice that the dataset is a mix of categorical features and numerical features. We would need to convert the categorical features into numerical representations so that we can apply statistical modeling."
   ]
  },
  {
   "cell_type": "markdown",
   "id": "0030b221",
   "metadata": {},
   "source": [
    "### Processing Categorical Features"
   ]
  },
  {
   "cell_type": "code",
   "execution_count": 169,
   "id": "b43c6367",
   "metadata": {
    "ExecuteTime": {
     "end_time": "2023-02-28T04:50:12.688983Z",
     "start_time": "2023-02-28T04:50:12.670505Z"
    }
   },
   "outputs": [
    {
     "name": "stdout",
     "output_type": "stream",
     "text": [
      "There are 9 categorical features in the dataset.\n",
      "The categorical features are ['job' 'marital' 'education' 'default' 'housing' 'loan' 'contact' 'month'\n",
      " 'y']\n"
     ]
    },
    {
     "data": {
      "text/html": [
       "<div>\n",
       "<style scoped>\n",
       "    .dataframe tbody tr th:only-of-type {\n",
       "        vertical-align: middle;\n",
       "    }\n",
       "\n",
       "    .dataframe tbody tr th {\n",
       "        vertical-align: top;\n",
       "    }\n",
       "\n",
       "    .dataframe thead th {\n",
       "        text-align: right;\n",
       "    }\n",
       "</style>\n",
       "<table border=\"1\" class=\"dataframe\">\n",
       "  <thead>\n",
       "    <tr style=\"text-align: right;\">\n",
       "      <th></th>\n",
       "      <th>job</th>\n",
       "      <th>marital</th>\n",
       "      <th>education</th>\n",
       "      <th>default</th>\n",
       "      <th>housing</th>\n",
       "      <th>loan</th>\n",
       "      <th>contact</th>\n",
       "      <th>month</th>\n",
       "      <th>y</th>\n",
       "    </tr>\n",
       "  </thead>\n",
       "  <tbody>\n",
       "    <tr>\n",
       "      <th>0</th>\n",
       "      <td>management</td>\n",
       "      <td>married</td>\n",
       "      <td>tertiary</td>\n",
       "      <td>no</td>\n",
       "      <td>yes</td>\n",
       "      <td>no</td>\n",
       "      <td>unknown</td>\n",
       "      <td>may</td>\n",
       "      <td>no</td>\n",
       "    </tr>\n",
       "    <tr>\n",
       "      <th>1</th>\n",
       "      <td>technician</td>\n",
       "      <td>single</td>\n",
       "      <td>secondary</td>\n",
       "      <td>no</td>\n",
       "      <td>yes</td>\n",
       "      <td>no</td>\n",
       "      <td>unknown</td>\n",
       "      <td>may</td>\n",
       "      <td>no</td>\n",
       "    </tr>\n",
       "    <tr>\n",
       "      <th>2</th>\n",
       "      <td>entrepreneur</td>\n",
       "      <td>married</td>\n",
       "      <td>secondary</td>\n",
       "      <td>no</td>\n",
       "      <td>yes</td>\n",
       "      <td>yes</td>\n",
       "      <td>unknown</td>\n",
       "      <td>may</td>\n",
       "      <td>no</td>\n",
       "    </tr>\n",
       "    <tr>\n",
       "      <th>3</th>\n",
       "      <td>blue-collar</td>\n",
       "      <td>married</td>\n",
       "      <td>unknown</td>\n",
       "      <td>no</td>\n",
       "      <td>yes</td>\n",
       "      <td>no</td>\n",
       "      <td>unknown</td>\n",
       "      <td>may</td>\n",
       "      <td>no</td>\n",
       "    </tr>\n",
       "    <tr>\n",
       "      <th>4</th>\n",
       "      <td>unknown</td>\n",
       "      <td>single</td>\n",
       "      <td>unknown</td>\n",
       "      <td>no</td>\n",
       "      <td>no</td>\n",
       "      <td>no</td>\n",
       "      <td>unknown</td>\n",
       "      <td>may</td>\n",
       "      <td>no</td>\n",
       "    </tr>\n",
       "  </tbody>\n",
       "</table>\n",
       "</div>"
      ],
      "text/plain": [
       "            job  marital  education default housing loan  contact month   y\n",
       "0    management  married   tertiary      no     yes   no  unknown   may  no\n",
       "1    technician   single  secondary      no     yes   no  unknown   may  no\n",
       "2  entrepreneur  married  secondary      no     yes  yes  unknown   may  no\n",
       "3   blue-collar  married    unknown      no     yes   no  unknown   may  no\n",
       "4       unknown   single    unknown      no      no   no  unknown   may  no"
      ]
     },
     "metadata": {},
     "output_type": "display_data"
    }
   ],
   "source": [
    "def show_categorical_col(df):\n",
    "    category_features = df.select_dtypes(['object']).columns.values\n",
    "    print(f'There are {len(category_features)} categorical features in the dataset.')\n",
    "    print(f'The categorical features are {category_features}')\n",
    "    display(df[category_features].head())\n",
    "    return category_features\n",
    "category_features = show_categorical_col(df)"
   ]
  },
  {
   "cell_type": "markdown",
   "id": "c261d8e1",
   "metadata": {},
   "source": [
    "Now let's examine the individual categorical columns. We will define a function to help us explore a particular column."
   ]
  },
  {
   "cell_type": "code",
   "execution_count": 170,
   "id": "5c4d7a18",
   "metadata": {
    "ExecuteTime": {
     "end_time": "2023-02-28T04:50:12.698069Z",
     "start_time": "2023-02-28T04:50:12.691664Z"
    }
   },
   "outputs": [],
   "source": [
    "def explore_categorical(df, col):\n",
    "    # Display information of a column if it is categorical\n",
    "    if df[col].dtypes == 'object':\n",
    "        unique_cat = len(df[col].unique())\n",
    "        print(f'Column Name: {col} \\n{20*\"-\"}')\n",
    "        print(f'Feature {col} has {unique_cat} unique categories\\n')\n",
    "        print(df[col].value_counts(normalize=True))\n",
    "        plt.figure(figsize=(10, 1.2*unique_cat))\n",
    "        sns.countplot(y=col, data=df, order = df[col].value_counts().index, color=\"#58508d\")\n",
    "        plt.show()\n",
    "        print()"
   ]
  },
  {
   "cell_type": "markdown",
   "id": "02ed653d",
   "metadata": {},
   "source": [
    "#### Preprocessing `y` (target variable)"
   ]
  },
  {
   "cell_type": "markdown",
   "id": "36ecabbd",
   "metadata": {},
   "source": [
    "Firstly let's take a look at the target variable `y`."
   ]
  },
  {
   "cell_type": "code",
   "execution_count": 171,
   "id": "5377fd03",
   "metadata": {
    "ExecuteTime": {
     "end_time": "2023-02-28T04:50:12.777056Z",
     "start_time": "2023-02-28T04:50:12.701463Z"
    }
   },
   "outputs": [
    {
     "name": "stdout",
     "output_type": "stream",
     "text": [
      "Column Name: y \n",
      "--------------------\n",
      "Feature y has 2 unique categories\n",
      "\n",
      "no     0.9276\n",
      "yes    0.0724\n",
      "Name: y, dtype: float64\n"
     ]
    },
    {
     "data": {
      "image/png": "[encoded data removed]",
      "text/plain": [
       "<Figure size 720x172.8 with 1 Axes>"
      ]
     },
     "metadata": {
      "needs_background": "light"
     },
     "output_type": "display_data"
    },
    {
     "name": "stdout",
     "output_type": "stream",
     "text": [
      "\n"
     ]
    }
   ],
   "source": [
    "explore_categorical(df, 'y')"
   ]
  },
  {
   "cell_type": "markdown",
   "id": "b91c587d",
   "metadata": {},
   "source": [
    "92.76% of the customer are not subscribed to a term deposit and only 7.24% of them did. The classes are not balanced and we need to address this issue. Accuracy will unlikely to be a good metric when designing our model and we would need to consider the other metrics for evaluation.\n",
    "\n",
    "We will map `y` into a binary variable with 0 for no and 1 for yes."
   ]
  },
  {
   "cell_type": "code",
   "execution_count": 172,
   "id": "ad86cbf4",
   "metadata": {
    "ExecuteTime": {
     "end_time": "2023-02-28T04:50:12.783053Z",
     "start_time": "2023-02-28T04:50:12.777908Z"
    }
   },
   "outputs": [],
   "source": [
    "df['y'] = df['y'].map({'no':0, 'yes':1})"
   ]
  },
  {
   "cell_type": "markdown",
   "id": "900d01e6",
   "metadata": {},
   "source": [
    "#### Preprocessing `job`"
   ]
  },
  {
   "cell_type": "code",
   "execution_count": 173,
   "id": "009b190b",
   "metadata": {
    "ExecuteTime": {
     "end_time": "2023-02-28T04:50:12.887994Z",
     "start_time": "2023-02-28T04:50:12.784155Z"
    },
    "scrolled": true
   },
   "outputs": [
    {
     "name": "stdout",
     "output_type": "stream",
     "text": [
      "Column Name: job \n",
      "--------------------\n",
      "Feature job has 12 unique categories\n",
      "\n",
      "blue-collar      0.234575\n",
      "management       0.204150\n",
      "technician       0.171300\n",
      "admin            0.112075\n",
      "services         0.097750\n",
      "retired          0.035925\n",
      "self-employed    0.035350\n",
      "entrepreneur     0.035125\n",
      "unemployed       0.027600\n",
      "housemaid        0.027175\n",
      "student          0.013100\n",
      "unknown          0.005875\n",
      "Name: job, dtype: float64\n"
     ]
    },
    {
     "data": {
      "image/png": "[encoded data removed]",
      "text/plain": [
       "<Figure size 720x1036.8 with 1 Axes>"
      ]
     },
     "metadata": {
      "needs_background": "light"
     },
     "output_type": "display_data"
    },
    {
     "name": "stdout",
     "output_type": "stream",
     "text": [
      "\n"
     ]
    }
   ],
   "source": [
    "explore_categorical(df, 'job')"
   ]
  },
  {
   "cell_type": "markdown",
   "id": "841ba242",
   "metadata": {},
   "source": [
    "The majority of the customers work as `blue-collar`, `management` and `technician`, taking up 23.46%, 20.42 and 17.13% of the total customer base respectively. There are to the lesser extent, `admin` and `services` workers, at 11.2% and 9.78%.\n",
    "\n",
    "The rest of the job types only accounts for about 18% of the population. The job types with lower population are typically short on deposit funds, which could be explanation of why they do not make up the majority of the business. There are also 0.58% of customers with unknown job types. We can group these job types into one single category called `others`."
   ]
  },
  {
   "cell_type": "code",
   "execution_count": 174,
   "id": "8e55d0a9",
   "metadata": {
    "ExecuteTime": {
     "end_time": "2023-02-28T04:50:12.895895Z",
     "start_time": "2023-02-28T04:50:12.890774Z"
    }
   },
   "outputs": [],
   "source": [
    "job_types = ['blue-collar', 'management', 'technician', 'admin', 'services']\n",
    "df['job'] = np.where(df['job'].isin(job_types), df['job'], 'others')"
   ]
  },
  {
   "cell_type": "markdown",
   "id": "8f4c4e02",
   "metadata": {},
   "source": [
    "#### Preprocessing `marital`"
   ]
  },
  {
   "cell_type": "code",
   "execution_count": 175,
   "id": "63a3f85e",
   "metadata": {
    "ExecuteTime": {
     "end_time": "2023-02-28T04:50:12.966051Z",
     "start_time": "2023-02-28T04:50:12.896808Z"
    }
   },
   "outputs": [
    {
     "name": "stdout",
     "output_type": "stream",
     "text": [
      "Column Name: marital \n",
      "--------------------\n",
      "Feature marital has 3 unique categories\n",
      "\n",
      "married     0.609650\n",
      "single      0.272225\n",
      "divorced    0.118125\n",
      "Name: marital, dtype: float64\n"
     ]
    },
    {
     "data": {
      "image/png": "[encoded data removed]",
      "text/plain": [
       "<Figure size 720x259.2 with 1 Axes>"
      ]
     },
     "metadata": {
      "needs_background": "light"
     },
     "output_type": "display_data"
    },
    {
     "name": "stdout",
     "output_type": "stream",
     "text": [
      "\n"
     ]
    }
   ],
   "source": [
    "explore_categorical(df, 'marital')"
   ]
  },
  {
   "cell_type": "markdown",
   "id": "06d75939",
   "metadata": {},
   "source": [
    "72.8% of the customers are either married or divorced, in comparison to only 27.2% of the customer who are single. This indicates that the majority of the customers are middle-aged or beyond."
   ]
  },
  {
   "cell_type": "markdown",
   "id": "0abb0f6d",
   "metadata": {},
   "source": [
    "#### Preprocessing `education`"
   ]
  },
  {
   "cell_type": "code",
   "execution_count": 176,
   "id": "702be5c0",
   "metadata": {
    "ExecuteTime": {
     "end_time": "2023-02-28T04:50:13.045566Z",
     "start_time": "2023-02-28T04:50:12.966836Z"
    }
   },
   "outputs": [
    {
     "name": "stdout",
     "output_type": "stream",
     "text": [
      "Column Name: education \n",
      "--------------------\n",
      "Feature education has 4 unique categories\n",
      "\n",
      "secondary    0.524825\n",
      "tertiary     0.280150\n",
      "primary      0.156750\n",
      "unknown      0.038275\n",
      "Name: education, dtype: float64\n"
     ]
    },
    {
     "data": {
      "image/png": "[encoded data removed]",
      "text/plain": [
       "<Figure size 720x345.6 with 1 Axes>"
      ]
     },
     "metadata": {
      "needs_background": "light"
     },
     "output_type": "display_data"
    },
    {
     "name": "stdout",
     "output_type": "stream",
     "text": [
      "\n"
     ]
    }
   ],
   "source": [
    "explore_categorical(df, 'education')"
   ]
  },
  {
   "cell_type": "markdown",
   "id": "6f9195a6",
   "metadata": {},
   "source": [
    "52.48% of the customers have completed a secondary education. 28% of the customers have completed post-secondary eduction whereas 15.68% of the customers only have completed a primary education. There are 3.8% of the customers with unknown education background. We can lump these in together with `secondary`."
   ]
  },
  {
   "cell_type": "code",
   "execution_count": 177,
   "id": "aa8ee7c9",
   "metadata": {
    "ExecuteTime": {
     "end_time": "2023-02-28T04:50:13.052692Z",
     "start_time": "2023-02-28T04:50:13.046357Z"
    }
   },
   "outputs": [],
   "source": [
    "df.loc[df['education']=='unknown', 'education'] = 'secondary'"
   ]
  },
  {
   "cell_type": "markdown",
   "id": "9d4c15a2",
   "metadata": {},
   "source": [
    "#### Preprocessing `default`"
   ]
  },
  {
   "cell_type": "code",
   "execution_count": 178,
   "id": "038547b9",
   "metadata": {
    "ExecuteTime": {
     "end_time": "2023-02-28T04:50:13.123402Z",
     "start_time": "2023-02-28T04:50:13.053517Z"
    }
   },
   "outputs": [
    {
     "name": "stdout",
     "output_type": "stream",
     "text": [
      "Column Name: default \n",
      "--------------------\n",
      "Feature default has 2 unique categories\n",
      "\n",
      "no     0.979775\n",
      "yes    0.020225\n",
      "Name: default, dtype: float64\n"
     ]
    },
    {
     "data": {
      "image/png": "[encoded data removed]",
      "text/plain": [
       "<Figure size 720x172.8 with 1 Axes>"
      ]
     },
     "metadata": {
      "needs_background": "light"
     },
     "output_type": "display_data"
    },
    {
     "name": "stdout",
     "output_type": "stream",
     "text": [
      "\n"
     ]
    }
   ],
   "source": [
    "explore_categorical(df, 'default')"
   ]
  },
  {
   "cell_type": "markdown",
   "id": "8de91ecb",
   "metadata": {},
   "source": [
    "The overwhelmingly majority of 98% of the customer do not have credit in default whereas 2% only them do. We might consider dropping this column since the categories are heavily imbalanced.\n",
    "\n",
    "We should firstly verify that `default` is not contributing a lot to the classification."
   ]
  },
  {
   "cell_type": "code",
   "execution_count": 179,
   "id": "e9a7d199",
   "metadata": {
    "ExecuteTime": {
     "end_time": "2023-02-28T04:50:13.130023Z",
     "start_time": "2023-02-28T04:50:13.124589Z"
    }
   },
   "outputs": [
    {
     "data": {
      "text/plain": [
       "no     39191\n",
       "yes      809\n",
       "Name: default, dtype: int64"
      ]
     },
     "execution_count": 179,
     "metadata": {},
     "output_type": "execute_result"
    }
   ],
   "source": [
    "df['default'].value_counts()"
   ]
  },
  {
   "cell_type": "code",
   "execution_count": 180,
   "id": "40ebdc00",
   "metadata": {
    "ExecuteTime": {
     "end_time": "2023-02-28T04:50:13.137786Z",
     "start_time": "2023-02-28T04:50:13.131093Z"
    }
   },
   "outputs": [
    {
     "data": {
      "text/plain": [
       "0    760\n",
       "1     49\n",
       "Name: y, dtype: int64"
      ]
     },
     "execution_count": 180,
     "metadata": {},
     "output_type": "execute_result"
    }
   ],
   "source": [
    "df[df['default']=='yes']['y'].value_counts()"
   ]
  },
  {
   "cell_type": "markdown",
   "id": "8c15415a",
   "metadata": {},
   "source": [
    "Out of 809 customers without credit in default, only 49 of them are subscribed to a term deposit, which is similar to the ratio of the class distribution. Therefore, it should be safe to conclude that `default` is not key factor in classifying `y` and can be removed."
   ]
  },
  {
   "cell_type": "code",
   "execution_count": 181,
   "id": "53447cb8",
   "metadata": {
    "ExecuteTime": {
     "end_time": "2023-02-28T04:50:13.143512Z",
     "start_time": "2023-02-28T04:50:13.138717Z"
    }
   },
   "outputs": [],
   "source": [
    "df.drop('default', axis=1, inplace=True)"
   ]
  },
  {
   "cell_type": "markdown",
   "id": "292ca214",
   "metadata": {},
   "source": [
    "#### Preprocessing `housing` and `loan`"
   ]
  },
  {
   "cell_type": "code",
   "execution_count": 182,
   "id": "8485700e",
   "metadata": {
    "ExecuteTime": {
     "end_time": "2023-02-28T04:50:13.208120Z",
     "start_time": "2023-02-28T04:50:13.144345Z"
    }
   },
   "outputs": [
    {
     "name": "stdout",
     "output_type": "stream",
     "text": [
      "Column Name: housing \n",
      "--------------------\n",
      "Feature housing has 2 unique categories\n",
      "\n",
      "yes    0.600775\n",
      "no     0.399225\n",
      "Name: housing, dtype: float64\n"
     ]
    },
    {
     "data": {
      "image/png": "[encoded data removed]",
      "text/plain": [
       "<Figure size 720x172.8 with 1 Axes>"
      ]
     },
     "metadata": {
      "needs_background": "light"
     },
     "output_type": "display_data"
    },
    {
     "name": "stdout",
     "output_type": "stream",
     "text": [
      "\n"
     ]
    }
   ],
   "source": [
    "explore_categorical(df, 'housing')"
   ]
  },
  {
   "cell_type": "markdown",
   "id": "41808260",
   "metadata": {},
   "source": [
    "60% of the customers have a housing loan and 40% of them do not."
   ]
  },
  {
   "cell_type": "code",
   "execution_count": 183,
   "id": "d91f4f11",
   "metadata": {
    "ExecuteTime": {
     "end_time": "2023-02-28T04:50:13.274105Z",
     "start_time": "2023-02-28T04:50:13.209035Z"
    }
   },
   "outputs": [
    {
     "name": "stdout",
     "output_type": "stream",
     "text": [
      "Column Name: loan \n",
      "--------------------\n",
      "Feature loan has 2 unique categories\n",
      "\n",
      "no     0.82675\n",
      "yes    0.17325\n",
      "Name: loan, dtype: float64\n"
     ]
    },
    {
     "data": {
      "image/png": "[encoded data removed]",
      "text/plain": [
       "<Figure size 720x172.8 with 1 Axes>"
      ]
     },
     "metadata": {
      "needs_background": "light"
     },
     "output_type": "display_data"
    },
    {
     "name": "stdout",
     "output_type": "stream",
     "text": [
      "\n"
     ]
    }
   ],
   "source": [
    "explore_categorical(df, 'loan')"
   ]
  },
  {
   "cell_type": "markdown",
   "id": "bfb8f80c",
   "metadata": {},
   "source": [
    "82.7% of the customers do not have a personal loan and 17.3% of them do. The distribution are not similar to the distribution of `housing`.\n",
    "\n",
    "We will map `housing` and `loan` into a binary variable with 0 for no and 1 for yes."
   ]
  },
  {
   "cell_type": "code",
   "execution_count": 184,
   "id": "149911d2",
   "metadata": {
    "ExecuteTime": {
     "end_time": "2023-02-28T04:50:13.284095Z",
     "start_time": "2023-02-28T04:50:13.274950Z"
    }
   },
   "outputs": [],
   "source": [
    "df['housing'] = df['housing'].map({'no': 0, 'yes': 1})\n",
    "df['loan'] = df['loan'].map({'no': 0, 'yes': 1})"
   ]
  },
  {
   "cell_type": "markdown",
   "id": "1f6b7561",
   "metadata": {},
   "source": [
    "#### Preprocessing `contact`"
   ]
  },
  {
   "cell_type": "code",
   "execution_count": 185,
   "id": "1a0d4d6a",
   "metadata": {
    "ExecuteTime": {
     "end_time": "2023-02-28T04:50:13.353894Z",
     "start_time": "2023-02-28T04:50:13.285135Z"
    }
   },
   "outputs": [
    {
     "name": "stdout",
     "output_type": "stream",
     "text": [
      "Column Name: contact \n",
      "--------------------\n",
      "Feature contact has 3 unique categories\n",
      "\n",
      "cellular     0.622850\n",
      "unknown      0.319125\n",
      "telephone    0.058025\n",
      "Name: contact, dtype: float64\n"
     ]
    },
    {
     "data": {
      "image/png": "[encoded data removed]",
      "text/plain": [
       "<Figure size 720x259.2 with 1 Axes>"
      ]
     },
     "metadata": {
      "needs_background": "light"
     },
     "output_type": "display_data"
    },
    {
     "name": "stdout",
     "output_type": "stream",
     "text": [
      "\n"
     ]
    }
   ],
   "source": [
    "explore_categorical(df, 'contact')"
   ]
  },
  {
   "cell_type": "markdown",
   "id": "c72c45c6",
   "metadata": {},
   "source": [
    "The majority of the customers at 62.3% uses cellular to make communication and only 5.8% of the customers uses telephone. There are 31.9% of customer with unknown communication method. \n",
    "\n",
    "We make the argument that it is reasonable to combine `unknown` and `telephone` since the bank does not explicitly know that the customer uses cellular as the communication method. We can store the new information into a column called `use_cellular`"
   ]
  },
  {
   "cell_type": "code",
   "execution_count": 186,
   "id": "2f378545",
   "metadata": {
    "ExecuteTime": {
     "end_time": "2023-02-28T04:50:13.363269Z",
     "start_time": "2023-02-28T04:50:13.354754Z"
    }
   },
   "outputs": [],
   "source": [
    "df['use_cellular'] = df['contact'].map({'cellular': 1, 'unknown': 0, 'telephone': 0})\n",
    "df.drop('contact', axis=1, inplace=True)"
   ]
  },
  {
   "cell_type": "markdown",
   "id": "d3e7abd4",
   "metadata": {},
   "source": [
    "#### Preprocessing `month`"
   ]
  },
  {
   "cell_type": "code",
   "execution_count": 187,
   "id": "869ce6f8",
   "metadata": {
    "ExecuteTime": {
     "end_time": "2023-02-28T04:50:13.464260Z",
     "start_time": "2023-02-28T04:50:13.364136Z"
    },
    "scrolled": true
   },
   "outputs": [
    {
     "name": "stdout",
     "output_type": "stream",
     "text": [
      "Column Name: month \n",
      "--------------------\n",
      "Feature month has 11 unique categories\n",
      "\n",
      "may    0.338300\n",
      "jul    0.159500\n",
      "aug    0.130375\n",
      "jun    0.118350\n",
      "nov    0.089950\n",
      "apr    0.067950\n",
      "feb    0.057400\n",
      "jan    0.029400\n",
      "mar    0.006450\n",
      "oct    0.002000\n",
      "dec    0.000325\n",
      "Name: month, dtype: float64\n"
     ]
    },
    {
     "data": {
      "image/png": "[encoded data removed]",
      "text/plain": [
       "<Figure size 720x950.4 with 1 Axes>"
      ]
     },
     "metadata": {
      "needs_background": "light"
     },
     "output_type": "display_data"
    },
    {
     "name": "stdout",
     "output_type": "stream",
     "text": [
      "\n"
     ]
    }
   ],
   "source": [
    "explore_categorical(df, 'month')"
   ]
  },
  {
   "cell_type": "markdown",
   "id": "bb658ebb",
   "metadata": {},
   "source": [
    "33.8% of the customers made the last contact in May and there are rarely any customer last contacted in October and December, at 0.2% and 0.03% respectively. Maybe there existed some customer searching campaign during the early to mid summer.\n",
    "\n",
    "One option is to group the month into quarters."
   ]
  },
  {
   "cell_type": "code",
   "execution_count": 188,
   "id": "8d43d2f9",
   "metadata": {
    "ExecuteTime": {
     "end_time": "2023-02-28T04:50:13.473286Z",
     "start_time": "2023-02-28T04:50:13.465072Z"
    }
   },
   "outputs": [],
   "source": [
    "df['quarter'] = pd.to_datetime(df['month'], format='%b').dt.quarter"
   ]
  },
  {
   "cell_type": "code",
   "execution_count": 189,
   "id": "34804fbf",
   "metadata": {
    "ExecuteTime": {
     "end_time": "2023-02-28T04:50:13.532971Z",
     "start_time": "2023-02-28T04:50:13.474108Z"
    }
   },
   "outputs": [
    {
     "data": {
      "image/png": "[encoded data removed]",
      "text/plain": [
       "<Figure size 432x288 with 1 Axes>"
      ]
     },
     "metadata": {
      "needs_background": "light"
     },
     "output_type": "display_data"
    }
   ],
   "source": [
    "df['quarter'].value_counts().sort_index().plot(kind='bar')\n",
    "plt.show()"
   ]
  },
  {
   "cell_type": "markdown",
   "id": "aceff8ad",
   "metadata": {},
   "source": [
    "Interesting to note above, very little contact happened during Q1 and Q4. The majority of the contacts were made in the second quarter with a sharp decline in Q3."
   ]
  },
  {
   "cell_type": "markdown",
   "id": "95a3a6bb",
   "metadata": {},
   "source": [
    "Also, since majority of the last contacts happened in May, July, August and June, we could consider these months `heavy_months` and create a binary feature to decide if the last call happened in a heavy month."
   ]
  },
  {
   "cell_type": "code",
   "execution_count": 190,
   "id": "39a2a51d",
   "metadata": {
    "ExecuteTime": {
     "end_time": "2023-02-28T04:50:13.537872Z",
     "start_time": "2023-02-28T04:50:13.533837Z"
    }
   },
   "outputs": [],
   "source": [
    "heavy_months = ['may', 'jul', 'aug', 'jun']\n",
    "df['heavy_months'] = 0\n",
    "df.loc[df['month'].isin(heavy_months), 'heavy_months'] = 1"
   ]
  },
  {
   "cell_type": "code",
   "execution_count": 191,
   "id": "3d975d8f",
   "metadata": {
    "ExecuteTime": {
     "end_time": "2023-02-28T04:50:13.543073Z",
     "start_time": "2023-02-28T04:50:13.538715Z"
    }
   },
   "outputs": [],
   "source": [
    "df.drop('month', axis=1, inplace=True)"
   ]
  },
  {
   "cell_type": "markdown",
   "id": "228b8757",
   "metadata": {},
   "source": [
    "After processing all the categorical columns, we can go back to numerical columns."
   ]
  },
  {
   "cell_type": "markdown",
   "id": "6514a455",
   "metadata": {},
   "source": [
    "### Preprocessing Numerical Features"
   ]
  },
  {
   "cell_type": "markdown",
   "id": "6c7d2ec7",
   "metadata": {},
   "source": [
    "Similar to the categorical columns, we will define a function to help visualize the numerical columns."
   ]
  },
  {
   "cell_type": "code",
   "execution_count": 192,
   "id": "74d9f3d5",
   "metadata": {
    "ExecuteTime": {
     "end_time": "2023-02-28T04:50:13.551736Z",
     "start_time": "2023-02-28T04:50:13.548983Z"
    }
   },
   "outputs": [],
   "source": [
    "def explore_numerical(df, col):\n",
    "    if df[col].dtypes in ['int', 'float']:\n",
    "        print(f'Column Name: {col} \\n{20*\"-\"}')\n",
    "        print(f'minimum value: {df[col].min()}')\n",
    "        print(f'median value: {df[col].median()}')\n",
    "        print(f'maximum value: {df[col].max()}')\n",
    "        print(f'mean value: {df[col].mean()}')\n",
    "        plt.figure(figsize=(7.5, 7.5))\n",
    "        sns.boxplot(y=col, data=df, color=\"#58508d\")\n",
    "        plt.show()\n",
    "        print()"
   ]
  },
  {
   "cell_type": "markdown",
   "id": "ecdb86a1",
   "metadata": {},
   "source": [
    "#### Preprocessing `balance`"
   ]
  },
  {
   "cell_type": "code",
   "execution_count": 193,
   "id": "468aa31b",
   "metadata": {
    "ExecuteTime": {
     "end_time": "2023-02-28T04:50:13.607276Z",
     "start_time": "2023-02-28T04:50:13.552552Z"
    }
   },
   "outputs": [
    {
     "name": "stdout",
     "output_type": "stream",
     "text": [
      "Column Name: balance \n",
      "--------------------\n",
      "minimum value: -8019\n",
      "median value: 407.0\n",
      "maximum value: 102127\n",
      "mean value: 1274.27755\n"
     ]
    },
    {
     "data": {
      "image/png": "[encoded data removed]",
      "text/plain": [
       "<Figure size 540x540 with 1 Axes>"
      ]
     },
     "metadata": {
      "needs_background": "light"
     },
     "output_type": "display_data"
    },
    {
     "name": "stdout",
     "output_type": "stream",
     "text": [
      "\n"
     ]
    }
   ],
   "source": [
    "explore_numerical(df, 'balance')"
   ]
  },
  {
   "cell_type": "markdown",
   "id": "a523382f",
   "metadata": {},
   "source": [
    "It seems that the majority of the account balance are below 2000 but the highest balance goes up to 102127."
   ]
  },
  {
   "cell_type": "markdown",
   "id": "5e74af52",
   "metadata": {},
   "source": [
    "#### Preprocessing `campaign`"
   ]
  },
  {
   "cell_type": "code",
   "execution_count": 194,
   "id": "68058153",
   "metadata": {
    "ExecuteTime": {
     "end_time": "2023-02-28T04:50:13.662400Z",
     "start_time": "2023-02-28T04:50:13.608228Z"
    }
   },
   "outputs": [
    {
     "name": "stdout",
     "output_type": "stream",
     "text": [
      "Column Name: campaign \n",
      "--------------------\n",
      "minimum value: 1\n",
      "median value: 2.0\n",
      "maximum value: 63\n",
      "mean value: 2.882175\n"
     ]
    },
    {
     "data": {
      "image/png": "[encoded data removed]",
      "text/plain": [
       "<Figure size 540x540 with 1 Axes>"
      ]
     },
     "metadata": {
      "needs_background": "light"
     },
     "output_type": "display_data"
    },
    {
     "name": "stdout",
     "output_type": "stream",
     "text": [
      "\n"
     ]
    }
   ],
   "source": [
    "explore_numerical(df, 'campaign')"
   ]
  },
  {
   "cell_type": "markdown",
   "id": "c0526eae",
   "metadata": {},
   "source": [
    "It appears that over half of the data points belongs in campaign 1 and 2. Let's take a deeper look into the specific distribution of the data."
   ]
  },
  {
   "cell_type": "code",
   "execution_count": 195,
   "id": "244636e5",
   "metadata": {
    "ExecuteTime": {
     "end_time": "2023-02-28T04:50:13.667110Z",
     "start_time": "2023-02-28T04:50:13.663547Z"
    },
    "scrolled": true
   },
   "outputs": [
    {
     "data": {
      "text/plain": [
       "1     14718\n",
       "2     11153\n",
       "3      4970\n",
       "4      3297\n",
       "5      1642\n",
       "6      1228\n",
       "7       699\n",
       "8       526\n",
       "9       318\n",
       "10      262\n",
       "11      197\n",
       "12      154\n",
       "13      131\n",
       "14       93\n",
       "15       83\n",
       "16       78\n",
       "17       69\n",
       "18       51\n",
       "19       44\n",
       "20       43\n",
       "21       35\n",
       "22       23\n",
       "25       22\n",
       "23       22\n",
       "24       20\n",
       "29       16\n",
       "28       16\n",
       "26       13\n",
       "31       12\n",
       "27       10\n",
       "32        9\n",
       "30        8\n",
       "33        6\n",
       "34        5\n",
       "36        4\n",
       "35        4\n",
       "43        3\n",
       "38        3\n",
       "37        2\n",
       "50        2\n",
       "41        2\n",
       "46        1\n",
       "58        1\n",
       "55        1\n",
       "63        1\n",
       "51        1\n",
       "39        1\n",
       "44        1\n",
       "Name: campaign, dtype: int64"
      ]
     },
     "execution_count": 195,
     "metadata": {},
     "output_type": "execute_result"
    }
   ],
   "source": [
    "df['campaign'].value_counts()"
   ]
  },
  {
   "cell_type": "markdown",
   "id": "926318fb",
   "metadata": {},
   "source": [
    "The campaign 1 and 2 makes up the majority of the data. We categorize the values as `1`, `2` and `others` as the values are not statistically semantic."
   ]
  },
  {
   "cell_type": "code",
   "execution_count": 196,
   "id": "76e8f256",
   "metadata": {
    "ExecuteTime": {
     "end_time": "2023-02-28T04:50:13.679461Z",
     "start_time": "2023-02-28T04:50:13.667941Z"
    }
   },
   "outputs": [],
   "source": [
    "df['campaign'] = np.where(df['campaign'].isin([1,2]), df['campaign'].apply(lambda x: str(x)), 'others')"
   ]
  },
  {
   "cell_type": "markdown",
   "id": "12cb7803",
   "metadata": {},
   "source": [
    "#### Preprocessing `day`"
   ]
  },
  {
   "cell_type": "code",
   "execution_count": 197,
   "id": "97c4c017",
   "metadata": {
    "ExecuteTime": {
     "end_time": "2023-02-28T04:50:13.730752Z",
     "start_time": "2023-02-28T04:50:13.680293Z"
    },
    "scrolled": true
   },
   "outputs": [
    {
     "name": "stdout",
     "output_type": "stream",
     "text": [
      "Column Name: day \n",
      "--------------------\n",
      "minimum value: 1\n",
      "median value: 17.0\n",
      "maximum value: 31\n",
      "mean value: 16.017225\n"
     ]
    },
    {
     "data": {
      "image/png": "[encoded data removed]",
      "text/plain": [
       "<Figure size 540x540 with 1 Axes>"
      ]
     },
     "metadata": {
      "needs_background": "light"
     },
     "output_type": "display_data"
    },
    {
     "name": "stdout",
     "output_type": "stream",
     "text": [
      "\n"
     ]
    }
   ],
   "source": [
    "explore_numerical(df, 'day')"
   ]
  },
  {
   "cell_type": "markdown",
   "id": "389b7e7a",
   "metadata": {},
   "source": [
    "Since the `day` value is unlikely to contribute to the classification, we will drop it from the dataset."
   ]
  },
  {
   "cell_type": "code",
   "execution_count": 198,
   "id": "7c85af01",
   "metadata": {
    "ExecuteTime": {
     "end_time": "2023-02-28T04:50:13.736895Z",
     "start_time": "2023-02-28T04:50:13.731542Z"
    }
   },
   "outputs": [],
   "source": [
    "df.drop('day', axis=1, inplace=True)"
   ]
  },
  {
   "cell_type": "markdown",
   "id": "6b11d3c6",
   "metadata": {},
   "source": [
    "### Create dummy df\n",
    "\n",
    "Now that we are done preprocessing the columns, we can transfer the df into a dummy df."
   ]
  },
  {
   "cell_type": "code",
   "execution_count": 199,
   "id": "f46ff97b",
   "metadata": {
    "ExecuteTime": {
     "end_time": "2023-02-28T04:50:13.754201Z",
     "start_time": "2023-02-28T04:50:13.737831Z"
    }
   },
   "outputs": [],
   "source": [
    "dummy_df = pd.get_dummies(df)"
   ]
  },
  {
   "cell_type": "code",
   "execution_count": 200,
   "id": "91c36f24",
   "metadata": {
    "ExecuteTime": {
     "end_time": "2023-02-28T04:50:13.762235Z",
     "start_time": "2023-02-28T04:50:13.755238Z"
    }
   },
   "outputs": [
    {
     "name": "stdout",
     "output_type": "stream",
     "text": [
      "<class 'pandas.core.frame.DataFrame'>\n",
      "RangeIndex: 40000 entries, 0 to 39999\n",
      "Data columns (total 24 columns):\n",
      " #   Column               Non-Null Count  Dtype\n",
      "---  ------               --------------  -----\n",
      " 0   age                  40000 non-null  int64\n",
      " 1   balance              40000 non-null  int64\n",
      " 2   housing              40000 non-null  int64\n",
      " 3   loan                 40000 non-null  int64\n",
      " 4   duration             40000 non-null  int64\n",
      " 5   y                    40000 non-null  int64\n",
      " 6   use_cellular         40000 non-null  int64\n",
      " 7   quarter              40000 non-null  int64\n",
      " 8   heavy_months         40000 non-null  int64\n",
      " 9   job_admin            40000 non-null  uint8\n",
      " 10  job_blue-collar      40000 non-null  uint8\n",
      " 11  job_management       40000 non-null  uint8\n",
      " 12  job_others           40000 non-null  uint8\n",
      " 13  job_services         40000 non-null  uint8\n",
      " 14  job_technician       40000 non-null  uint8\n",
      " 15  marital_divorced     40000 non-null  uint8\n",
      " 16  marital_married      40000 non-null  uint8\n",
      " 17  marital_single       40000 non-null  uint8\n",
      " 18  education_primary    40000 non-null  uint8\n",
      " 19  education_secondary  40000 non-null  uint8\n",
      " 20  education_tertiary   40000 non-null  uint8\n",
      " 21  campaign_1           40000 non-null  uint8\n",
      " 22  campaign_2           40000 non-null  uint8\n",
      " 23  campaign_others      40000 non-null  uint8\n",
      "dtypes: int64(9), uint8(15)\n",
      "memory usage: 3.3 MB\n"
     ]
    }
   ],
   "source": [
    "dummy_df.info()"
   ]
  },
  {
   "cell_type": "markdown",
   "id": "bcdbce65",
   "metadata": {},
   "source": [
    "Now that we have the dummy df constructed, let's examine if there is any columns highly correlated with each other."
   ]
  },
  {
   "cell_type": "code",
   "execution_count": 201,
   "id": "19c92202",
   "metadata": {
    "ExecuteTime": {
     "end_time": "2023-02-28T04:50:14.399036Z",
     "start_time": "2023-02-28T04:50:13.763096Z"
    }
   },
   "outputs": [
    {
     "data": {
      "image/png": "[encoded data removed]",
      "text/plain": [
       "<Figure size 1440x1440 with 2 Axes>"
      ]
     },
     "metadata": {
      "needs_background": "light"
     },
     "output_type": "display_data"
    }
   ],
   "source": [
    "def visualize_correlation(X):\n",
    "\n",
    "    # calculate all the correlations between each of the independent variables\n",
    "    corr_df = X.corr()\n",
    "\n",
    "    # mask\n",
    "    mask = np.triu(corr_df)\n",
    "\n",
    "\n",
    "    # heatmap\n",
    "    plt.figure(figsize=(20, 20))\n",
    "    sns.heatmap(corr_df.round(2), vmax=1, vmin=-1, center=0, annot=True, mask=mask, cmap='coolwarm')\n",
    "visualize_correlation(dummy_df.drop('y', axis=1))"
   ]
  }
 ],
 "metadata": {
  "kernelspec": {
   "display_name": "Python 3 (ipykernel)",
   "language": "python",
   "name": "python3"
  },
  "language_info": {
   "codemirror_mode": {
    "name": "ipython",
    "version": 3
   },
   "file_extension": ".py",
   "mimetype": "text/x-python",
   "name": "python",
   "nbconvert_exporter": "python",
   "pygments_lexer": "ipython3",
   "version": "3.9.7"
  },
  "varInspector": {
   "cols": {
    "lenName": 16,
    "lenType": 16,
    "lenVar": 40
   },
   "kernels_config": {
    "python": {
     "delete_cmd_postfix": "",
     "delete_cmd_prefix": "del ",
     "library": "var_list.py",
     "varRefreshCmd": "print(var_dic_list())"
    },
    "r": {
     "delete_cmd_postfix": ") ",
     "delete_cmd_prefix": "rm(",
     "library": "var_list.r",
     "varRefreshCmd": "cat(var_dic_list()) "
    }
   },
   "types_to_exclude": [
    "module",
    "function",
    "builtin_function_or_method",
    "instance",
    "_Feature"
   ],
   "window_display": false
  }
 },
 "nbformat": 4,
 "nbformat_minor": 5
}
